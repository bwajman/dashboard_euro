{
 "cells": [
  {
   "cell_type": "code",
   "execution_count": 135,
   "id": "f01d40c8",
   "metadata": {},
   "outputs": [],
   "source": [
    "import pandas as pd"
   ]
  },
  {
   "cell_type": "code",
   "execution_count": 197,
   "id": "c9fba0a3",
   "metadata": {},
   "outputs": [],
   "source": [
    "df = pd.read_csv('/Users/admin/Downloads/data/h2h/groupF_H2H.csv',sep=';',names =['Date','Match','_','Result','Competitions'])"
   ]
  },
  {
   "cell_type": "code",
   "execution_count": 198,
   "id": "98f55b27",
   "metadata": {},
   "outputs": [],
   "source": [
    "df.drop(columns = '_', axis = 1, inplace=True)"
   ]
  },
  {
   "cell_type": "code",
   "execution_count": 199,
   "id": "170d3079",
   "metadata": {},
   "outputs": [],
   "source": [
    "df['Date'] = pd.to_datetime(df['Date'], format='%d %b %Y')"
   ]
  },
  {
   "cell_type": "code",
   "execution_count": 200,
   "id": "2a615bbd",
   "metadata": {},
   "outputs": [],
   "source": [
    "df['Match'] = df['Match'].str.split(' v ')"
   ]
  },
  {
   "cell_type": "code",
   "execution_count": 201,
   "id": "fc908e44",
   "metadata": {},
   "outputs": [],
   "source": [
    "df['Home'] = df['Match'].str[0]\n",
    "df['Away'] = df['Match'].str[1]"
   ]
  },
  {
   "cell_type": "code",
   "execution_count": 202,
   "id": "f923561c",
   "metadata": {},
   "outputs": [],
   "source": [
    "df.drop(columns = 'Match', axis = 1, inplace=True)"
   ]
  },
  {
   "cell_type": "code",
   "execution_count": 203,
   "id": "4dfaee03",
   "metadata": {},
   "outputs": [],
   "source": [
    "df['Result'] = df['Result'].str.split('-')"
   ]
  },
  {
   "cell_type": "code",
   "execution_count": 204,
   "id": "2bd70b88",
   "metadata": {},
   "outputs": [],
   "source": [
    "df['H'] = df['Result'].str[0]\n",
    "df['A'] = df['Result'].str[1]"
   ]
  },
  {
   "cell_type": "code",
   "execution_count": 205,
   "id": "4964e503",
   "metadata": {},
   "outputs": [],
   "source": [
    "df.drop(columns = 'Result', axis = 1, inplace=True)"
   ]
  },
  {
   "cell_type": "code",
   "execution_count": 206,
   "id": "ea8c5e48",
   "metadata": {},
   "outputs": [],
   "source": [
    "df['H']=df['H'].astype(int)\n",
    "df['A']=df['A'].astype(int)"
   ]
  },
  {
   "cell_type": "code",
   "execution_count": 207,
   "id": "c8274097",
   "metadata": {},
   "outputs": [],
   "source": [
    "df.loc[df['H']>df['A'],'Result']='H'\n",
    "df.loc[df['H']==df['A'],'Result']='D'\n",
    "df.loc[df['H']<df['A'],'Result']='A'"
   ]
  },
  {
   "cell_type": "code",
   "execution_count": 208,
   "id": "7633cdf4",
   "metadata": {},
   "outputs": [],
   "source": [
    "df.to_csv('/Users/admin/Downloads/data/h2h/groupF_H2H_modified.csv')"
   ]
  },
  {
   "cell_type": "code",
   "execution_count": 147,
   "id": "098f952f",
   "metadata": {},
   "outputs": [
    {
     "data": {
      "text/html": [
       "<div>\n",
       "<style scoped>\n",
       "    .dataframe tbody tr th:only-of-type {\n",
       "        vertical-align: middle;\n",
       "    }\n",
       "\n",
       "    .dataframe tbody tr th {\n",
       "        vertical-align: top;\n",
       "    }\n",
       "\n",
       "    .dataframe thead th {\n",
       "        text-align: right;\n",
       "    }\n",
       "</style>\n",
       "<table border=\"1\" class=\"dataframe\">\n",
       "  <thead>\n",
       "    <tr style=\"text-align: right;\">\n",
       "      <th></th>\n",
       "      <th>Date</th>\n",
       "      <th>Result</th>\n",
       "      <th>Competitions</th>\n",
       "      <th>Home</th>\n",
       "      <th>Away</th>\n",
       "      <th>H</th>\n",
       "      <th>A</th>\n",
       "    </tr>\n",
       "  </thead>\n",
       "  <tbody>\n",
       "    <tr>\n",
       "      <th>0</th>\n",
       "      <td>1929-06-01</td>\n",
       "      <td>D</td>\n",
       "      <td>International Friendly</td>\n",
       "      <td>Germany</td>\n",
       "      <td>Scotland</td>\n",
       "      <td>1</td>\n",
       "      <td>1</td>\n",
       "    </tr>\n",
       "    <tr>\n",
       "      <th>1</th>\n",
       "      <td>1936-10-14</td>\n",
       "      <td>H</td>\n",
       "      <td>International Friendly</td>\n",
       "      <td>Scotland</td>\n",
       "      <td>Germany</td>\n",
       "      <td>2</td>\n",
       "      <td>0</td>\n",
       "    </tr>\n",
       "    <tr>\n",
       "      <th>2</th>\n",
       "      <td>1957-05-22</td>\n",
       "      <td>A</td>\n",
       "      <td>International Friendly</td>\n",
       "      <td>West Germany</td>\n",
       "      <td>Scotland</td>\n",
       "      <td>1</td>\n",
       "      <td>3</td>\n",
       "    </tr>\n",
       "    <tr>\n",
       "      <th>3</th>\n",
       "      <td>1959-05-06</td>\n",
       "      <td>H</td>\n",
       "      <td>International Friendly</td>\n",
       "      <td>Scotland</td>\n",
       "      <td>West Germany</td>\n",
       "      <td>3</td>\n",
       "      <td>2</td>\n",
       "    </tr>\n",
       "    <tr>\n",
       "      <th>4</th>\n",
       "      <td>1964-05-12</td>\n",
       "      <td>D</td>\n",
       "      <td>International Friendly</td>\n",
       "      <td>West Germany</td>\n",
       "      <td>Scotland</td>\n",
       "      <td>2</td>\n",
       "      <td>2</td>\n",
       "    </tr>\n",
       "    <tr>\n",
       "      <th>...</th>\n",
       "      <td>...</td>\n",
       "      <td>...</td>\n",
       "      <td>...</td>\n",
       "      <td>...</td>\n",
       "      <td>...</td>\n",
       "      <td>...</td>\n",
       "      <td>...</td>\n",
       "    </tr>\n",
       "    <tr>\n",
       "      <th>172</th>\n",
       "      <td>1997-08-20</td>\n",
       "      <td>D</td>\n",
       "      <td>FIFA World Cup</td>\n",
       "      <td>Hungary</td>\n",
       "      <td>Switzerland</td>\n",
       "      <td>1</td>\n",
       "      <td>1</td>\n",
       "    </tr>\n",
       "    <tr>\n",
       "      <th>173</th>\n",
       "      <td>1998-11-18</td>\n",
       "      <td>H</td>\n",
       "      <td>International Friendly</td>\n",
       "      <td>Hungary</td>\n",
       "      <td>Switzerland</td>\n",
       "      <td>2</td>\n",
       "      <td>0</td>\n",
       "    </tr>\n",
       "    <tr>\n",
       "      <th>174</th>\n",
       "      <td>2002-02-13</td>\n",
       "      <td>H</td>\n",
       "      <td>Four Nation Tournament Cyprus</td>\n",
       "      <td>Switzerland</td>\n",
       "      <td>Hungary</td>\n",
       "      <td>2</td>\n",
       "      <td>1</td>\n",
       "    </tr>\n",
       "    <tr>\n",
       "      <th>175</th>\n",
       "      <td>2016-10-07</td>\n",
       "      <td>A</td>\n",
       "      <td>FIFA World Cup</td>\n",
       "      <td>Hungary</td>\n",
       "      <td>Switzerland</td>\n",
       "      <td>2</td>\n",
       "      <td>3</td>\n",
       "    </tr>\n",
       "    <tr>\n",
       "      <th>176</th>\n",
       "      <td>2017-10-07</td>\n",
       "      <td>H</td>\n",
       "      <td>FIFA World Cup</td>\n",
       "      <td>Switzerland</td>\n",
       "      <td>Hungary</td>\n",
       "      <td>5</td>\n",
       "      <td>2</td>\n",
       "    </tr>\n",
       "  </tbody>\n",
       "</table>\n",
       "<p>177 rows × 7 columns</p>\n",
       "</div>"
      ],
      "text/plain": [
       "          Date Result                   Competitions          Home  \\\n",
       "0   1929-06-01      D         International Friendly       Germany   \n",
       "1   1936-10-14      H         International Friendly      Scotland   \n",
       "2   1957-05-22      A         International Friendly  West Germany   \n",
       "3   1959-05-06      H         International Friendly      Scotland   \n",
       "4   1964-05-12      D         International Friendly  West Germany   \n",
       "..         ...    ...                            ...           ...   \n",
       "172 1997-08-20      D                 FIFA World Cup       Hungary   \n",
       "173 1998-11-18      H         International Friendly       Hungary   \n",
       "174 2002-02-13      H  Four Nation Tournament Cyprus   Switzerland   \n",
       "175 2016-10-07      A                 FIFA World Cup       Hungary   \n",
       "176 2017-10-07      H                 FIFA World Cup   Switzerland   \n",
       "\n",
       "             Away  H  A  \n",
       "0        Scotland  1  1  \n",
       "1         Germany  2  0  \n",
       "2        Scotland  1  3  \n",
       "3    West Germany  3  2  \n",
       "4        Scotland  2  2  \n",
       "..            ... .. ..  \n",
       "172   Switzerland  1  1  \n",
       "173   Switzerland  2  0  \n",
       "174       Hungary  2  1  \n",
       "175   Switzerland  2  3  \n",
       "176       Hungary  5  2  \n",
       "\n",
       "[177 rows x 7 columns]"
      ]
     },
     "execution_count": 147,
     "metadata": {},
     "output_type": "execute_result"
    }
   ],
   "source": [
    "df"
   ]
  }
 ],
 "metadata": {
  "kernelspec": {
   "display_name": "Python 3 (ipykernel)",
   "language": "python",
   "name": "python3"
  },
  "language_info": {
   "codemirror_mode": {
    "name": "ipython",
    "version": 3
   },
   "file_extension": ".py",
   "mimetype": "text/x-python",
   "name": "python",
   "nbconvert_exporter": "python",
   "pygments_lexer": "ipython3",
   "version": "3.9.13"
  }
 },
 "nbformat": 4,
 "nbformat_minor": 5
}
